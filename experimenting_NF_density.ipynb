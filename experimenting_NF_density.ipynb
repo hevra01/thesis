{
 "cells": [
  {
   "cell_type": "code",
   "execution_count": 8,
   "id": "2e024ad7",
   "metadata": {},
   "outputs": [],
   "source": [
    "import torch\n",
    "from experiments.image.model.dense_flow import DenseFlow\n",
    "from torchvision import transforms\n",
    "from PIL import Image\n",
    "from torchvision.transforms.functional import to_pil_image, to_tensor\n"
   ]
  },
  {
   "cell_type": "code",
   "execution_count": 2,
   "id": "901bcc59",
   "metadata": {},
   "outputs": [
    {
     "name": "stderr",
     "output_type": "stream",
     "text": [
      "/tmp/ipykernel_8492/2133285996.py:2: FutureWarning: You are using `torch.load` with `weights_only=False` (the current default value), which uses the default pickle module implicitly. It is possible to construct malicious pickle data which will execute arbitrary code during unpickling (See https://github.com/pytorch/pytorch/blob/main/SECURITY.md#untrusted-models for more details). In a future release, the default value for `weights_only` will be flipped to `True`. This limits the functions that could be executed during unpickling. Arbitrary objects will no longer be allowed to be loaded via this mode unless they are explicitly allowlisted by the user via `torch.serialization.add_safe_globals`. We recommend you start setting `weights_only=True` for any use case where you don't have full control of the loaded file. Please open an issue on GitHub for any issues related to this experimental feature.\n",
      "  checkpoint = torch.load('/BS/data_mani_compress/work/thesis/thesis/external/DenseFlow/denseflow/imn64/imagenet64/check/checkpoint.pt', map_location='cuda')\n"
     ]
    }
   ],
   "source": [
    "# 3.1 Load model\n",
    "checkpoint = torch.load('/BS/data_mani_compress/work/thesis/thesis/external/DenseFlow/denseflow/imn64/imagenet64/check/checkpoint.pt', map_location='cuda')"
   ]
  },
  {
   "cell_type": "code",
   "execution_count": 3,
   "id": "9772df13",
   "metadata": {},
   "outputs": [
    {
     "name": "stdout",
     "output_type": "stream",
     "text": [
      "dict_keys(['current_epoch', 'train_metrics', 'eval_metrics', 'eval_epochs', 'model', 'optimizer', 'scheduler_iter', 'scheduler_epoch'])\n"
     ]
    },
    {
     "data": {
      "text/plain": [
       "<All keys matched successfully>"
      ]
     },
     "execution_count": 3,
     "metadata": {},
     "output_type": "execute_result"
    }
   ],
   "source": [
    "print(checkpoint.keys())\n",
    "model = DenseFlow(data_shape=(3, 64, 64),                  # ImageNet64\n",
    "    block_config=[6, 4, 1],\n",
    "    layers_config=[5, 6, 20],\n",
    "    layer_mid_chnls=[48, 48, 48],\n",
    "    growth_rate=10)\n",
    "model.load_state_dict(checkpoint['model'])"
   ]
  },
  {
   "cell_type": "code",
   "execution_count": 6,
   "id": "9d290443",
   "metadata": {},
   "outputs": [],
   "source": [
    "def resize_with_box(tensor_batch, size=(64, 64)):\n",
    "    resized = []\n",
    "    for img in tensor_batch:  # assumes shape [B, 3, H, W]\n",
    "        pil_img = to_pil_image(img)  # converts to PIL Image\n",
    "        pil_resized = pil_img.resize(size, resample=Image.BOX)\n",
    "        tensor_resized = to_tensor(pil_resized)  # back to tensor\n",
    "        resized.append(tensor_resized)\n",
    "    return torch.stack(resized)"
   ]
  },
  {
   "cell_type": "code",
   "execution_count": 5,
   "id": "25b422ef",
   "metadata": {},
   "outputs": [
    {
     "name": "stderr",
     "output_type": "stream",
     "text": [
      "/BS/data_mani_compress/work/miniforge3/envs/dgm_geometry/lib/python3.11/site-packages/torch/utils/data/dataloader.py:617: UserWarning: This DataLoader will create 64 worker processes in total. Our suggested max number of worker in current system is 20, which is smaller than what this DataLoader is going to create. Please be aware that excessive worker creation might get DataLoader running slow or even freeze, lower the worker number to avoid potential slowness/freeze if necessary.\n",
      "  warnings.warn(\n"
     ]
    }
   ],
   "source": [
    "# import imagenet loader\n",
    "from data.utils.dataloaders import get_imagenet_dataloader\n",
    "imagenet_loader = get_imagenet_dataloader(batch_size=2)\n"
   ]
  },
  {
   "cell_type": "code",
   "execution_count": 9,
   "id": "92d73ce3",
   "metadata": {},
   "outputs": [
    {
     "name": "stdout",
     "output_type": "stream",
     "text": [
      "torch.Size([3, 256, 256])\n",
      "torch.Size([2, 3, 256, 256])\n"
     ]
    },
    {
     "name": "stderr",
     "output_type": "stream",
     "text": [
      "/BS/data_mani_compress/work/miniforge3/envs/dgm_geometry/lib/python3.11/site-packages/torch/_dynamo/eval_frame.py:632: UserWarning: torch.utils.checkpoint: the use_reentrant parameter should be passed explicitly. In version 2.5 we will raise an exception if use_reentrant is not passed. use_reentrant=False is recommended, but if you need to preserve the current default behavior, you can pass use_reentrant=True. Refer to docs for more details on the differences between the two variants.\n",
      "  return fn(*args, **kwargs)\n"
     ]
    },
    {
     "name": "stdout",
     "output_type": "stream",
     "text": [
      "Log-likelihood: tensor([-40381.1289, -41165.4375]) nats\n"
     ]
    }
   ],
   "source": [
    "first_instances = next(iter(imagenet_loader)) # list of 2 bc first element holds the images and second element holds the labels\n",
    "print((first_instances[0][1].shape))\n",
    "first_images = first_instances[0]  # [batch_size, 3, 64, 64]\n",
    "print(first_images.shape)\n",
    "\n",
    "# Assuming `first_images` is your input tensor of shape [B, 3, 256, 256]\n",
    "first_images_box = resize_with_box(first_images)\n",
    "\n",
    "# 3.3 Compute log-likelihood\n",
    "with torch.no_grad():\n",
    "    log_px = model.log_prob(first_images_box)  # log probability [nats/image]\n",
    "print(f\"Log-likelihood: {log_px} nats\")"
   ]
  }
 ],
 "metadata": {
  "kernelspec": {
   "display_name": "dgm_geometry",
   "language": "python",
   "name": "python3"
  },
  "language_info": {
   "codemirror_mode": {
    "name": "ipython",
    "version": 3
   },
   "file_extension": ".py",
   "mimetype": "text/x-python",
   "name": "python",
   "nbconvert_exporter": "python",
   "pygments_lexer": "ipython3",
   "version": "3.11.5"
  }
 },
 "nbformat": 4,
 "nbformat_minor": 5
}
