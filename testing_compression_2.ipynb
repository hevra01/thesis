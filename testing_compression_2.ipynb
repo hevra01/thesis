{
 "cells": [
  {
   "cell_type": "code",
   "execution_count": 1,
   "id": "08941bbc",
   "metadata": {},
   "outputs": [
    {
     "name": "stderr",
     "output_type": "stream",
     "text": [
      "/BS/data_mani_compress/work/miniforge3/envs/dgm_geometry/lib/python3.11/site-packages/tqdm/auto.py:21: TqdmWarning: IProgress not found. Please update jupyter and ipywidgets. See https://ipywidgets.readthedocs.io/en/stable/user_install.html\n",
      "  from .autonotebook import tqdm as notebook_tqdm\n"
     ]
    }
   ],
   "source": [
    "import torch\n",
    "from data.utils.dataloaders import get_imagenet_dataloader\n",
    "import json\n",
    "from data.utils.dataloaders import ReconstructionDataset\n",
    "import numpy as np\n",
    "from torch.utils.data import DataLoader, Dataset\n",
    "from models.bpp_predictor import CompressionRatePredictor\n",
    "import matplotlib.pyplot as plt\n",
    "from sklearn.preprocessing import PolynomialFeatures\n",
    "from sklearn.linear_model import LinearRegression\n",
    "from sklearn.pipeline import make_pipeline\n",
    "import numpy as np\n",
    "from collections import defaultdict\n",
    "from typing import Sequence, Dict, List, Tuple\n",
    "import imageio\n",
    "import os\n",
    "from pathlib import Path\n",
    "from torchvision.transforms.functional import to_pil_image, to_tensor\n",
    "from PIL import Image\n",
    "from sklearn.linear_model import LinearRegression\n",
    "\n",
    "\n",
    "linear_regressor = LinearRegression()\n",
    "\n",
    "\n",
    "device = torch.device(\"cuda\" if torch.cuda.is_available() else \"cpu\")"
   ]
  },
  {
   "cell_type": "code",
   "execution_count": 2,
   "id": "9ca50b36",
   "metadata": {},
   "outputs": [
    {
     "name": "stdout",
     "output_type": "stream",
     "text": [
      "Dataloader loaded successfully.\n"
     ]
    },
    {
     "name": "stderr",
     "output_type": "stream",
     "text": [
      "/BS/data_mani_compress/work/miniforge3/envs/dgm_geometry/lib/python3.11/site-packages/torch/utils/data/dataloader.py:617: UserWarning: This DataLoader will create 64 worker processes in total. Our suggested max number of worker in current system is 20, which is smaller than what this DataLoader is going to create. Please be aware that excessive worker creation might get DataLoader running slow or even freeze, lower the worker number to avoid potential slowness/freeze if necessary.\n",
      "  warnings.warn(\n"
     ]
    }
   ],
   "source": [
    "# Load the ImageNet dataloader\n",
    "batch_size = 8\n",
    "imgnet_dataloader = get_imagenet_dataloader(batch_size=batch_size)\n",
    "print(\"Dataloader loaded successfully.\")"
   ]
  },
  {
   "cell_type": "code",
   "execution_count": 3,
   "id": "c1266d3c",
   "metadata": {},
   "outputs": [
    {
     "name": "stdout",
     "output_type": "stream",
     "text": [
      "Average Density RF 0 Unconditional: 9047.003955504837\n",
      "Average Density RF 0: 9060.830355075279\n",
      "Average Density RF 1: 8528.244547193877\n",
      "Average Density RF 16: 8672.651196438843\n",
      "Average Density RF 32: 8854.334908264225\n",
      "Average Density RF 64: 8772.981271745723\n",
      "Average Density RF 128: 8896.10583769571\n",
      "Average Density RF 256: 9260.93147549517\n"
     ]
    }
   ],
   "source": [
    "# this is used for entropy coding, it holds the registers for each image\n",
    "# e.g., [[registers], [registers], ...] found by flextok.\n",
    "with open(\"/BS/data_mani_compress/work/thesis/thesis/all_registers_imagenet.json\", \"r\") as f:\n",
    "    all_registers = json.load(f)\n",
    "\n",
    "# Load the LID values for lid_25_corrected\n",
    "lid_25_path = \"/BS/data_mani_compress/work/thesis/thesis/imageNet_LID_values/lid_25_corrected.json\"\n",
    "with open(lid_25_path, \"r\") as f:\n",
    "    lid_25_values = json.load(f)\n",
    "\n",
    "# Load the reconstruction errors\n",
    "reconstruction_error_path_70 = \"/BS/data_mani_compress/work/thesis/thesis/reconstruction_loss_imgnet/reconstruction_errors.json_0000_0070.json\"\n",
    "with open(reconstruction_error_path_70, \"r\") as f:\n",
    "    reconstruction_error_70 = json.load(f)\n",
    "\n",
    "reconstruction_error_path_140 = \"/BS/data_mani_compress/work/thesis/thesis/reconstruction_loss_imgnet/reconstruction_errors.json_0070_0140.json\"\n",
    "with open(reconstruction_error_path_140, \"r\") as f:\n",
    "    reconstruction_error_140 = json.load(f)\n",
    "\n",
    "reconstruction_error_path_210 = \"/BS/data_mani_compress/work/thesis/thesis/reconstruction_loss_imgnet/reconstruction_errors.json_0140_0210.json\"\n",
    "with open(reconstruction_error_path_210, \"r\") as f:\n",
    "    reconstruction_error_210 = json.load(f)\n",
    "\n",
    "# load the density value \n",
    "json_path = \"/BS/data_mani_compress/work/thesis/thesis/imgnet_densities.json\"\n",
    "with open(json_path, \"r\") as f:\n",
    "    density_results = json.load(f)\n",
    "\n",
    "density_rf_0_unconditional = \"/BS/data_mani_compress/work/thesis/thesis/imgnet_densities_RF_0_unconditional.json\"\n",
    "with open(density_rf_0_unconditional, \"r\") as f:\n",
    "    density_rf_0_unconditional = json.load(f)\n",
    "\n",
    "density_rf_0 = \"/BS/data_mani_compress/work/thesis/thesis/imgnet_densities_RF_0.json\"\n",
    "with open(density_rf_0, \"r\") as f:\n",
    "    density_rf_0 = json.load(f)\n",
    "\n",
    "density_rf_1 = \"/BS/data_mani_compress/work/thesis/thesis/imgnet_densities_RF_1.json\"\n",
    "with open(density_rf_1, \"r\") as f:\n",
    "    density_rf_1 = json.load(f)\n",
    "\n",
    "density_rf_16 = \"/BS/data_mani_compress/work/thesis/thesis/imgnet_densities_RF_16.json\"\n",
    "with open(density_rf_16, \"r\") as f:\n",
    "    density_rf_16 = json.load(f)\n",
    "\n",
    "density_rf_32 = \"/BS/data_mani_compress/work/thesis/thesis/imgnet_densities_RF_32.json\"\n",
    "with open(density_rf_32, \"r\") as f:\n",
    "    density_rf_32 = json.load(f)\n",
    "\n",
    "density_rf_64 = \"/BS/data_mani_compress/work/thesis/thesis/imgnet_densities_RF_64.json\"\n",
    "with open(density_rf_64, \"r\") as f:\n",
    "    density_rf_64 = json.load(f)\n",
    "\n",
    "density_rf_128 = \"/BS/data_mani_compress/work/thesis/thesis/imgnet_densities_RF_128.json\"\n",
    "with open(density_rf_128, \"r\") as f:\n",
    "    density_rf_128 = json.load(f)\n",
    "\n",
    "density_rf_256 = \"/BS/data_mani_compress/work/thesis/thesis/imgnet_densities_RF_256.json\"\n",
    "with open(density_rf_256, \"r\") as f:\n",
    "    density_rf_256 = json.load(f)\n",
    "\n",
    "# unconditional density normalized\n",
    "density_0_unconditional_normalized = (((density_rf_0_unconditional - np.mean(density_rf_0_unconditional)) / np.std(density_rf_0_unconditional))) + 0.5\n",
    "density_0_normalized = (((density_rf_0 - np.mean(density_rf_0)) / np.std(density_rf_0))) + 0.5\n",
    "density_normalized = (((density_results - np.mean(density_results)) / np.std(density_results))) + 0.5\n",
    "\n",
    "\n",
    "# min_len = min(len(density_rf_0), len(density_rf_1), len(density_rf_16), len(density_rf_32), \n",
    "#               len(density_rf_64), len(density_rf_128), len(density_rf_256))\n",
    "# compare density values with different compression rates\n",
    "avg_0_unconditional = np.mean(density_rf_0_unconditional)\n",
    "avg_0 = np.mean(density_rf_0)\n",
    "avg_1 = np.mean(density_rf_1)\n",
    "avg_16 = np.mean(density_rf_16)\n",
    "avg_32 = np.mean(density_rf_32)\n",
    "avg_64 = np.mean(density_rf_64)\n",
    "avg_128 = np.mean(density_rf_128)\n",
    "avg_256 = np.mean(density_rf_256)\n",
    "print(f\"Average Density RF 0 Unconditional: {avg_0_unconditional}\")\n",
    "print(f\"Average Density RF 0: {avg_0}\")\n",
    "print(f\"Average Density RF 1: {avg_1}\")\n",
    "print(f\"Average Density RF 16: {avg_16}\")\n",
    "print(f\"Average Density RF 32: {avg_32}\")\n",
    "print(f\"Average Density RF 64: {avg_64}\")\n",
    "print(f\"Average Density RF 128: {avg_128}\")\n",
    "print(f\"Average Density RF 256: {avg_256}\")\n",
    "\n"
   ]
  },
  {
   "cell_type": "code",
   "execution_count": 4,
   "id": "fe7640d1",
   "metadata": {},
   "outputs": [],
   "source": [
    "# concatenate all the reconstruction errors\n",
    "reconstruction_error = reconstruction_error_70 + reconstruction_error_140 + reconstruction_error_210\n",
    "lid_normalized = (((lid_25_values - np.mean(lid_25_values)) / np.std(lid_25_values))) + 0.5 "
   ]
  },
  {
   "cell_type": "code",
   "execution_count": 5,
   "id": "f751fd4d",
   "metadata": {},
   "outputs": [],
   "source": [
    "recon_dataset = ReconstructionDataset(\n",
    "        reconstruction_data=reconstruction_error,\n",
    "        all_registers=all_registers,\n",
    "        num_pixels=256*256,\n",
    "        dataloader=imgnet_dataloader,\n",
    "    )"
   ]
  },
  {
   "cell_type": "code",
   "execution_count": 35,
   "id": "150055ee",
   "metadata": {},
   "outputs": [],
   "source": [
    "def recover_target_from_idx(idx, batch_size=32, num_k_values=10):\n",
    "    offset_within_group = idx % (batch_size * num_k_values)\n",
    "    within_batch_index = offset_within_group % batch_size\n",
    "    group_index = idx // (batch_size * num_k_values)\n",
    "    target = group_index * batch_size + within_batch_index\n",
    "    return target\n"
   ]
  },
  {
   "cell_type": "code",
   "execution_count": 36,
   "id": "40b08d26",
   "metadata": {},
   "outputs": [
    {
     "ename": "KeyboardInterrupt",
     "evalue": "",
     "output_type": "error",
     "traceback": [
      "\u001b[31m---------------------------------------------------------------------------\u001b[39m",
      "\u001b[31mKeyboardInterrupt\u001b[39m                         Traceback (most recent call last)",
      "\u001b[36mCell\u001b[39m\u001b[36m \u001b[39m\u001b[32mIn[36]\u001b[39m\u001b[32m, line 2\u001b[39m\n\u001b[32m      1\u001b[39m \u001b[38;5;66;03m# get the vgg errors\u001b[39;00m\n\u001b[32m----> \u001b[39m\u001b[32m2\u001b[39m vgg_errors = \u001b[43m[\u001b[49m\u001b[43mrecon_dataset\u001b[49m\u001b[43m[\u001b[49m\u001b[43mi\u001b[49m\u001b[43m]\u001b[49m\u001b[43m[\u001b[49m\u001b[33;43m\"\u001b[39;49m\u001b[33;43mvgg_error\u001b[39;49m\u001b[33;43m\"\u001b[39;49m\u001b[43m]\u001b[49m\u001b[43m \u001b[49m\u001b[38;5;28;43;01mfor\u001b[39;49;00m\u001b[43m \u001b[49m\u001b[43mi\u001b[49m\u001b[43m \u001b[49m\u001b[38;5;129;43;01min\u001b[39;49;00m\u001b[43m \u001b[49m\u001b[38;5;28;43mrange\u001b[39;49m\u001b[43m(\u001b[49m\u001b[38;5;28;43mlen\u001b[39;49m\u001b[43m(\u001b[49m\u001b[43mrecon_dataset\u001b[49m\u001b[43m)\u001b[49m\u001b[43m)\u001b[49m\u001b[43m]\u001b[49m\n\u001b[32m      3\u001b[39m \u001b[38;5;28mprint\u001b[39m(\u001b[38;5;28mlen\u001b[39m(vgg_errors))\n\u001b[32m      4\u001b[39m \u001b[38;5;28mprint\u001b[39m(\u001b[33m\"\u001b[39m\u001b[33mVGG Errors:\u001b[39m\u001b[33m\"\u001b[39m, vgg_errors[:\u001b[32m10\u001b[39m])  \u001b[38;5;66;03m# Print first 10 VGG errors for verification\u001b[39;00m\n",
      "\u001b[36mCell\u001b[39m\u001b[36m \u001b[39m\u001b[32mIn[36]\u001b[39m\u001b[32m, line 2\u001b[39m, in \u001b[36m<listcomp>\u001b[39m\u001b[34m(.0)\u001b[39m\n\u001b[32m      1\u001b[39m \u001b[38;5;66;03m# get the vgg errors\u001b[39;00m\n\u001b[32m----> \u001b[39m\u001b[32m2\u001b[39m vgg_errors = [\u001b[43mrecon_dataset\u001b[49m\u001b[43m[\u001b[49m\u001b[43mi\u001b[49m\u001b[43m]\u001b[49m[\u001b[33m\"\u001b[39m\u001b[33mvgg_error\u001b[39m\u001b[33m\"\u001b[39m] \u001b[38;5;28;01mfor\u001b[39;00m i \u001b[38;5;129;01min\u001b[39;00m \u001b[38;5;28mrange\u001b[39m(\u001b[38;5;28mlen\u001b[39m(recon_dataset))]\n\u001b[32m      3\u001b[39m \u001b[38;5;28mprint\u001b[39m(\u001b[38;5;28mlen\u001b[39m(vgg_errors))\n\u001b[32m      4\u001b[39m \u001b[38;5;28mprint\u001b[39m(\u001b[33m\"\u001b[39m\u001b[33mVGG Errors:\u001b[39m\u001b[33m\"\u001b[39m, vgg_errors[:\u001b[32m10\u001b[39m])  \u001b[38;5;66;03m# Print first 10 VGG errors for verification\u001b[39;00m\n",
      "\u001b[36mFile \u001b[39m\u001b[32m/BS/data_mani_compress/work/thesis/thesis/data/utils/dataloaders.py:124\u001b[39m, in \u001b[36mReconstructionDataset.__getitem__\u001b[39m\u001b[34m(self, idx)\u001b[39m\n\u001b[32m    120\u001b[39m \u001b[38;5;66;03m# Calculate the average bit length per pixel\u001b[39;00m\n\u001b[32m    121\u001b[39m bpp = \u001b[38;5;28msum\u001b[39m(huffman_code_lengths) / \u001b[38;5;28mself\u001b[39m.num_pixels  \n\u001b[32m    123\u001b[39m \u001b[38;5;28;01mreturn\u001b[39;00m {\n\u001b[32m--> \u001b[39m\u001b[32m124\u001b[39m     \u001b[33m\"\u001b[39m\u001b[33mimage\u001b[39m\u001b[33m\"\u001b[39m: \u001b[38;5;28;43mself\u001b[39;49m\u001b[43m.\u001b[49m\u001b[43mdataloader\u001b[49m\u001b[43m.\u001b[49m\u001b[43mdataset\u001b[49m\u001b[43m[\u001b[49m\u001b[43mimage_id\u001b[49m\u001b[43m]\u001b[49m[\u001b[32m0\u001b[39m],  \u001b[38;5;66;03m# Get the image from the dataloader\u001b[39;00m\n\u001b[32m    125\u001b[39m     \u001b[33m\"\u001b[39m\u001b[33mk_value\u001b[39m\u001b[33m\"\u001b[39m: k_value,\n\u001b[32m    126\u001b[39m     \u001b[33m\"\u001b[39m\u001b[33mmae_error\u001b[39m\u001b[33m\"\u001b[39m: mae_error,\n\u001b[32m    127\u001b[39m     \u001b[33m\"\u001b[39m\u001b[33mvgg_error\u001b[39m\u001b[33m\"\u001b[39m: vgg_error,\n\u001b[32m    128\u001b[39m     \u001b[33m\"\u001b[39m\u001b[33mbpp\u001b[39m\u001b[33m\"\u001b[39m: bpp,  \u001b[38;5;66;03m# bits per pixel\u001b[39;00m\n\u001b[32m    129\u001b[39m }\n",
      "\u001b[36mFile \u001b[39m\u001b[32m/BS/data_mani_compress/work/miniforge3/envs/dgm_geometry/lib/python3.11/site-packages/torchvision/datasets/folder.py:245\u001b[39m, in \u001b[36mDatasetFolder.__getitem__\u001b[39m\u001b[34m(self, index)\u001b[39m\n\u001b[32m    237\u001b[39m \u001b[38;5;250m\u001b[39m\u001b[33;03m\"\"\"\u001b[39;00m\n\u001b[32m    238\u001b[39m \u001b[33;03mArgs:\u001b[39;00m\n\u001b[32m    239\u001b[39m \u001b[33;03m    index (int): Index\u001b[39;00m\n\u001b[32m   (...)\u001b[39m\u001b[32m    242\u001b[39m \u001b[33;03m    tuple: (sample, target) where target is class_index of the target class.\u001b[39;00m\n\u001b[32m    243\u001b[39m \u001b[33;03m\"\"\"\u001b[39;00m\n\u001b[32m    244\u001b[39m path, target = \u001b[38;5;28mself\u001b[39m.samples[index]\n\u001b[32m--> \u001b[39m\u001b[32m245\u001b[39m sample = \u001b[38;5;28;43mself\u001b[39;49m\u001b[43m.\u001b[49m\u001b[43mloader\u001b[49m\u001b[43m(\u001b[49m\u001b[43mpath\u001b[49m\u001b[43m)\u001b[49m\n\u001b[32m    246\u001b[39m \u001b[38;5;28;01mif\u001b[39;00m \u001b[38;5;28mself\u001b[39m.transform \u001b[38;5;129;01mis\u001b[39;00m \u001b[38;5;129;01mnot\u001b[39;00m \u001b[38;5;28;01mNone\u001b[39;00m:\n\u001b[32m    247\u001b[39m     sample = \u001b[38;5;28mself\u001b[39m.transform(sample)\n",
      "\u001b[36mFile \u001b[39m\u001b[32m/BS/data_mani_compress/work/miniforge3/envs/dgm_geometry/lib/python3.11/site-packages/torchvision/datasets/folder.py:284\u001b[39m, in \u001b[36mdefault_loader\u001b[39m\u001b[34m(path)\u001b[39m\n\u001b[32m    282\u001b[39m     \u001b[38;5;28;01mreturn\u001b[39;00m accimage_loader(path)\n\u001b[32m    283\u001b[39m \u001b[38;5;28;01melse\u001b[39;00m:\n\u001b[32m--> \u001b[39m\u001b[32m284\u001b[39m     \u001b[38;5;28;01mreturn\u001b[39;00m \u001b[43mpil_loader\u001b[49m\u001b[43m(\u001b[49m\u001b[43mpath\u001b[49m\u001b[43m)\u001b[49m\n",
      "\u001b[36mFile \u001b[39m\u001b[32m/BS/data_mani_compress/work/miniforge3/envs/dgm_geometry/lib/python3.11/site-packages/torchvision/datasets/folder.py:264\u001b[39m, in \u001b[36mpil_loader\u001b[39m\u001b[34m(path)\u001b[39m\n\u001b[32m    262\u001b[39m \u001b[38;5;28;01mwith\u001b[39;00m \u001b[38;5;28mopen\u001b[39m(path, \u001b[33m\"\u001b[39m\u001b[33mrb\u001b[39m\u001b[33m\"\u001b[39m) \u001b[38;5;28;01mas\u001b[39;00m f:\n\u001b[32m    263\u001b[39m     img = Image.open(f)\n\u001b[32m--> \u001b[39m\u001b[32m264\u001b[39m     \u001b[38;5;28;01mreturn\u001b[39;00m \u001b[43mimg\u001b[49m\u001b[43m.\u001b[49m\u001b[43mconvert\u001b[49m\u001b[43m(\u001b[49m\u001b[33;43m\"\u001b[39;49m\u001b[33;43mRGB\u001b[39;49m\u001b[33;43m\"\u001b[39;49m\u001b[43m)\u001b[49m\n",
      "\u001b[36mFile \u001b[39m\u001b[32m/BS/data_mani_compress/work/miniforge3/envs/dgm_geometry/lib/python3.11/site-packages/PIL/Image.py:937\u001b[39m, in \u001b[36mImage.convert\u001b[39m\u001b[34m(self, mode, matrix, dither, palette, colors)\u001b[39m\n\u001b[32m    889\u001b[39m \u001b[38;5;28;01mdef\u001b[39;00m\u001b[38;5;250m \u001b[39m\u001b[34mconvert\u001b[39m(\n\u001b[32m    890\u001b[39m     \u001b[38;5;28mself\u001b[39m, mode=\u001b[38;5;28;01mNone\u001b[39;00m, matrix=\u001b[38;5;28;01mNone\u001b[39;00m, dither=\u001b[38;5;28;01mNone\u001b[39;00m, palette=Palette.WEB, colors=\u001b[32m256\u001b[39m\n\u001b[32m    891\u001b[39m ):\n\u001b[32m    892\u001b[39m \u001b[38;5;250m    \u001b[39m\u001b[33;03m\"\"\"\u001b[39;00m\n\u001b[32m    893\u001b[39m \u001b[33;03m    Returns a converted copy of this image. For the \"P\" mode, this\u001b[39;00m\n\u001b[32m    894\u001b[39m \u001b[33;03m    method translates pixels through the palette.  If mode is\u001b[39;00m\n\u001b[32m   (...)\u001b[39m\u001b[32m    934\u001b[39m \u001b[33;03m    :returns: An :py:class:`~PIL.Image.Image` object.\u001b[39;00m\n\u001b[32m    935\u001b[39m \u001b[33;03m    \"\"\"\u001b[39;00m\n\u001b[32m--> \u001b[39m\u001b[32m937\u001b[39m     \u001b[38;5;28;43mself\u001b[39;49m\u001b[43m.\u001b[49m\u001b[43mload\u001b[49m\u001b[43m(\u001b[49m\u001b[43m)\u001b[49m\n\u001b[32m    939\u001b[39m     has_transparency = \u001b[38;5;28mself\u001b[39m.info.get(\u001b[33m\"\u001b[39m\u001b[33mtransparency\u001b[39m\u001b[33m\"\u001b[39m) \u001b[38;5;129;01mis\u001b[39;00m \u001b[38;5;129;01mnot\u001b[39;00m \u001b[38;5;28;01mNone\u001b[39;00m\n\u001b[32m    940\u001b[39m     \u001b[38;5;28;01mif\u001b[39;00m \u001b[38;5;129;01mnot\u001b[39;00m mode \u001b[38;5;129;01mand\u001b[39;00m \u001b[38;5;28mself\u001b[39m.mode == \u001b[33m\"\u001b[39m\u001b[33mP\u001b[39m\u001b[33m\"\u001b[39m:\n\u001b[32m    941\u001b[39m         \u001b[38;5;66;03m# determine default mode\u001b[39;00m\n",
      "\u001b[36mFile \u001b[39m\u001b[32m/BS/data_mani_compress/work/miniforge3/envs/dgm_geometry/lib/python3.11/site-packages/PIL/ImageFile.py:269\u001b[39m, in \u001b[36mImageFile.load\u001b[39m\u001b[34m(self)\u001b[39m\n\u001b[32m    266\u001b[39m         \u001b[38;5;28;01mraise\u001b[39;00m \u001b[38;5;167;01mOSError\u001b[39;00m(msg)\n\u001b[32m    268\u001b[39m b = b + s\n\u001b[32m--> \u001b[39m\u001b[32m269\u001b[39m n, err_code = \u001b[43mdecoder\u001b[49m\u001b[43m.\u001b[49m\u001b[43mdecode\u001b[49m\u001b[43m(\u001b[49m\u001b[43mb\u001b[49m\u001b[43m)\u001b[49m\n\u001b[32m    270\u001b[39m \u001b[38;5;28;01mif\u001b[39;00m n < \u001b[32m0\u001b[39m:\n\u001b[32m    271\u001b[39m     \u001b[38;5;28;01mbreak\u001b[39;00m\n",
      "\u001b[31mKeyboardInterrupt\u001b[39m: "
     ]
    }
   ],
   "source": [
    "# get the vgg errors\n",
    "vgg_errors = [recon_dataset[i][\"vgg_error\"] for i in range(len(recon_dataset))]\n",
    "print(len(vgg_errors))\n",
    "print(\"VGG Errors:\", vgg_errors[:10])  # Print first 10 VGG errors for verification"
   ]
  },
  {
   "cell_type": "code",
   "execution_count": 85,
   "id": "710f9aec",
   "metadata": {},
   "outputs": [
    {
     "name": "stdout",
     "output_type": "stream",
     "text": [
      "2.8513830707142396\n",
      "0.9189941961931493\n",
      "0.2072625756263733 6.349050521850586\n",
      "[ 8391  8423  8455  8487  9446 60553 67013]\n"
     ]
    }
   ],
   "source": [
    "# fix a vgg error value, so we can relate k value to LID\n",
    "# and see how for different LID values, we need different k values.\n",
    "\n",
    "print(np.mean(vgg_errors))\n",
    "print(np.std(vgg_errors))\n",
    "print(min(vgg_errors), max(vgg_errors))\n",
    "error_margin = 0.4\n",
    "vgg_error_reference = 6.35\n",
    "vgg_filtered_indices = np.where(\n",
    "    (np.array(vgg_errors) >= vgg_error_reference - error_margin) &\n",
    "    (np.array(vgg_errors) <= vgg_error_reference + error_margin)\n",
    ")[0]\n",
    "\n",
    "print(vgg_filtered_indices)\n"
   ]
  },
  {
   "cell_type": "code",
   "execution_count": 88,
   "id": "ef6249fc",
   "metadata": {},
   "outputs": [
    {
     "name": "stdout",
     "output_type": "stream",
     "text": [
      "vgg_filtered_indices: [ 8391  8423  8455  8487  9446 60553 67013]\n",
      "Target Indices: [839, 839, 839, 839, 934, 6057, 6693]\n"
     ]
    }
   ],
   "source": [
    "# now that we have fixed the vgg error, we need to further filter so that \n",
    "# we only keep the ones with very close density values.\n",
    "# then, we will be able to relate the LID values to the k values.\n",
    "batch_size = 32\n",
    "num_k_values = 10\n",
    "\n",
    "# get the indices such that they map to the dataset index\n",
    "indices_same_vgg_error = [recover_target_from_idx(i, batch_size, num_k_values) for i in vgg_filtered_indices]\n",
    "seen = set()\n",
    "\n",
    "# it is possible that some indices are repeated, which will happen if the same image has the same vgg error\n",
    "# with different k values. however, we want to compare the LID and the k values,\n",
    "# because I hypothesize that at high reconstruction errors, high LID values will require lower number of tokens.\n",
    "\n",
    "unique_indices = [] # this is going to map to indices from the LID and density. \n",
    "original_positions = []\n",
    "\n",
    "for idx, x in enumerate(indices_same_vgg_error):\n",
    "    if x not in seen:\n",
    "        seen.add(x)\n",
    "        unique_indices.append(x)\n",
    "        original_positions.append(idx)\n",
    "\n",
    "print(\"vgg_filtered_indices:\", vgg_filtered_indices)\n",
    "print(\"Target Indices:\", indices_same_vgg_error)\n"
   ]
  },
  {
   "cell_type": "code",
   "execution_count": 89,
   "id": "7a523c35",
   "metadata": {},
   "outputs": [
    {
     "name": "stdout",
     "output_type": "stream",
     "text": [
      "LID Filtered Values: [3.246158383777192, 5.387986736480431, 2.2837005902364114, 3.542700674008701]\n"
     ]
    }
   ],
   "source": [
    "target_indices = [indices_same_vgg_error[i] for i in original_positions]\n",
    "lid_filtered_values = [lid_normalized[i] for i in unique_indices]\n",
    "print(\"LID Filtered Values:\", lid_filtered_values)  # Print first 10 LID values for verification\n"
   ]
  },
  {
   "cell_type": "code",
   "execution_count": 90,
   "id": "aa5d441d",
   "metadata": {},
   "outputs": [
    {
     "name": "stdout",
     "output_type": "stream",
     "text": [
      "K Values: [64, 256, 256, 256]\n"
     ]
    },
    {
     "data": {
      "image/png": "[encoded data removed]",
      "text/plain": [
       "<Figure size 1000x600 with 1 Axes>"
      ]
     },
     "metadata": {},
     "output_type": "display_data"
    }
   ],
   "source": [
    "\n",
    "k_values = [recon_dataset[i][\"k_value\"] for i in target_indices]\n",
    "print(\"K Values:\", k_values)\n",
    "\n",
    "# plot number of tokens vs LID\n",
    "\n",
    "plt.figure(figsize=(10, 6))\n",
    "plt.scatter(k_values, lid_filtered_values, alpha=0.7)\n",
    "plt.title(\"Number of Tokens vs LID\")\n",
    "plt.xlabel(\"Number of Tokens (K)\")\n",
    "plt.ylabel(\"LID\")\n",
    "plt.xscale(\"log\")\n",
    "plt.grid(True)\n",
    "plt.show()"
   ]
  },
  {
   "cell_type": "code",
   "execution_count": 103,
   "id": "459300ad",
   "metadata": {},
   "outputs": [
    {
     "name": "stdout",
     "output_type": "stream",
     "text": [
      "2.8513830707142396\n",
      "0.9189941961931493\n",
      "0.2072625756263733 6.349050521850586\n",
      "[16037 55723 55755 55762 55794 55826 55915 55947 55954 55977 55979 64055\n",
      " 64151 64183 64247 64279]\n"
     ]
    }
   ],
   "source": [
    "# fix a vgg error value, so we can relate k value to LID\n",
    "# and see how for different LID values, we need different k values.\n",
    "\n",
    "print(np.mean(vgg_errors))\n",
    "print(np.std(vgg_errors))\n",
    "print(min(vgg_errors), max(vgg_errors))\n",
    "error_margin = 0.05\n",
    "vgg_error_reference = 0.21\n",
    "vgg_filtered_indices = np.where(\n",
    "    (np.array(vgg_errors) >= vgg_error_reference - error_margin) &\n",
    "    (np.array(vgg_errors) <= vgg_error_reference + error_margin)\n",
    ")[0]\n",
    "\n",
    "print(vgg_filtered_indices)\n"
   ]
  },
  {
   "cell_type": "code",
   "execution_count": 104,
   "id": "556cc1fc",
   "metadata": {},
   "outputs": [
    {
     "name": "stdout",
     "output_type": "stream",
     "text": [
      "vgg_filtered_indices: [16037 55723 55755 55762 55794 55826 55915 55947 55954 55977 55979 64055\n",
      " 64151 64183 64247 64279]\n",
      "Target Indices: [1605, 5579, 5579, 5586, 5586, 5586, 5579, 5579, 5586, 5577, 5579, 6423, 6423, 6423, 6423, 6423]\n"
     ]
    }
   ],
   "source": [
    "# now that we have fixed the vgg error, we need to further filter so that \n",
    "# we only keep the ones with very close density values.\n",
    "# then, we will be able to relate the LID values to the k values.\n",
    "batch_size = 32\n",
    "num_k_values = 10\n",
    "\n",
    "# get the indices such that they map to the dataset index\n",
    "indices_same_vgg_error = [recover_target_from_idx(i, batch_size, num_k_values) for i in vgg_filtered_indices]\n",
    "seen = set()\n",
    "\n",
    "# it is possible that some indices are repeated, which will happen if the same image has the same vgg error\n",
    "# with different k values. however, we want to compare the LID and the k values,\n",
    "# because I hypothesize that at high reconstruction errors, high LID values will require lower number of tokens.\n",
    "\n",
    "unique_indices = [] # this is going to map to indices from the LID and density. \n",
    "original_positions = []\n",
    "\n",
    "for idx, x in enumerate(indices_same_vgg_error):\n",
    "    if x not in seen:\n",
    "        seen.add(x)\n",
    "        unique_indices.append(x)\n",
    "        original_positions.append(idx)\n",
    "\n",
    "print(\"vgg_filtered_indices:\", vgg_filtered_indices)\n",
    "print(\"Target Indices:\", indices_same_vgg_error)\n"
   ]
  },
  {
   "cell_type": "code",
   "execution_count": 105,
   "id": "dc42c46b",
   "metadata": {},
   "outputs": [
    {
     "name": "stdout",
     "output_type": "stream",
     "text": [
      "LID Filtered Values: [-1.2492842728062978, -0.79885232086175, -0.844318379907459, -1.1614466002620425, -1.5873786729486503]\n"
     ]
    }
   ],
   "source": [
    "target_indices = [indices_same_vgg_error[i] for i in original_positions]\n",
    "lid_filtered_values = [lid_normalized[i] for i in unique_indices]\n",
    "print(\"LID Filtered Values:\", lid_filtered_values)  # Print first 10 LID values for verification\n"
   ]
  },
  {
   "cell_type": "code",
   "execution_count": 106,
   "id": "2cfcfb9d",
   "metadata": {},
   "outputs": [
    {
     "name": "stdout",
     "output_type": "stream",
     "text": [
      "K Values: [1, 16, 16, 16, 1]\n"
     ]
    },
    {
     "data": {
      "image/png": "[encoded data removed]",
      "text/plain": [
       "<Figure size 1000x600 with 1 Axes>"
      ]
     },
     "metadata": {},
     "output_type": "display_data"
    }
   ],
   "source": [
    "\n",
    "k_values = [recon_dataset[i][\"k_value\"] for i in target_indices]\n",
    "print(\"K Values:\", k_values)\n",
    "\n",
    "# plot number of tokens vs LID\n",
    "\n",
    "plt.figure(figsize=(10, 6))\n",
    "plt.scatter(k_values, lid_filtered_values, alpha=0.7)\n",
    "plt.title(\"Number of Tokens vs LID\")\n",
    "plt.xlabel(\"Number of Tokens (K)\")\n",
    "plt.ylabel(\"LID\")\n",
    "plt.xscale(\"log\")\n",
    "plt.grid(True)\n",
    "plt.show()"
   ]
  }
 ],
 "metadata": {
  "kernelspec": {
   "display_name": "dgm_geometry",
   "language": "python",
   "name": "python3"
  },
  "language_info": {
   "codemirror_mode": {
    "name": "ipython",
    "version": 3
   },
   "file_extension": ".py",
   "mimetype": "text/x-python",
   "name": "python",
   "nbconvert_exporter": "python",
   "pygments_lexer": "ipython3",
   "version": "3.11.5"
  }
 },
 "nbformat": 4,
 "nbformat_minor": 5
}
