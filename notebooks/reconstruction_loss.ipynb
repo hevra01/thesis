{
 "cells": [
  {
   "cell_type": "code",
   "execution_count": 1,
   "id": "2669ff78",
   "metadata": {},
   "outputs": [
    {
     "data": {
      "text/plain": [
       "'\\nsanity checking the reconstruction loss dataset\\n'"
      ]
     },
     "execution_count": 1,
     "metadata": {},
     "output_type": "execute_result"
    }
   ],
   "source": [
    "\"\"\"\n",
    "sanity checking the reconstruction loss dataset\n",
    "\"\"\""
   ]
  },
  {
   "cell_type": "code",
   "execution_count": 2,
   "id": "19b1ca92",
   "metadata": {},
   "outputs": [],
   "source": [
    "import json"
   ]
  },
  {
   "cell_type": "code",
   "execution_count": null,
   "id": "ba10ad22",
   "metadata": {},
   "outputs": [],
   "source": [
    "# folder containing your JSON files\n",
    "folder = \"/path/to/your/folder\"\n",
    "\n",
    "# list all files that match the naming pattern\n",
    "files = [f for f in os.listdir(folder) if f.startswith(\"reconstruction_errors_\") and f.endswith(\".json\")]\n",
    "files = sorted(files)  # ensures correct order\n",
    "\n",
    "combined = {}\n",
    "\n",
    "for fname in files:\n",
    "    fpath = os.path.join(folder, fname)\n",
    "    with open(fpath, \"r\") as f:\n",
    "        data = json.load(f)\n",
    "        if not isinstance(data, dict):\n",
    "            raise ValueError(f\"{fname} is not a dictionary\")\n",
    "        combined.update(data)  # merge dictionaries\n",
    "\n",
    "# write combined json\n",
    "out_path = os.path.join(folder, \"reconstruction_errors_all.json\")\n",
    "with open(out_path, \"w\") as f:\n",
    "    json.dump(combined, f, indent=2)\n",
    "\n",
    "print(f\"Combined {len(files)} files into {out_path}, total entries = {len(combined)}\")"
   ]
  }
 ],
 "metadata": {
  "kernelspec": {
   "display_name": "dgm_geometry",
   "language": "python",
   "name": "python3"
  },
  "language_info": {
   "codemirror_mode": {
    "name": "ipython",
    "version": 3
   },
   "file_extension": ".py",
   "mimetype": "text/x-python",
   "name": "python",
   "nbconvert_exporter": "python",
   "pygments_lexer": "ipython3",
   "version": "3.11.5"
  }
 },
 "nbformat": 4,
 "nbformat_minor": 5
}
