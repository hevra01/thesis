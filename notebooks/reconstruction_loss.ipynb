{
 "cells": [
  {
   "cell_type": "code",
   "execution_count": 1,
   "id": "2669ff78",
   "metadata": {},
   "outputs": [
    {
     "data": {
      "text/plain": [
       "'\\nsanity checking the reconstruction loss dataset\\n'"
      ]
     },
     "execution_count": 1,
     "metadata": {},
     "output_type": "execute_result"
    }
   ],
   "source": [
    "\"\"\"\n",
    "sanity checking the reconstruction loss dataset\n",
    "\"\"\""
   ]
  },
  {
   "cell_type": "code",
   "execution_count": 33,
   "id": "19b1ca92",
   "metadata": {},
   "outputs": [],
   "source": [
    "import json\n",
    "import os\n",
    "import numpy as np\n"
   ]
  },
  {
   "cell_type": "code",
   "execution_count": 20,
   "id": "ba10ad22",
   "metadata": {},
   "outputs": [
    {
     "name": "stdout",
     "output_type": "stream",
     "text": [
      "['reconstruction_errors_0000_0070.json', 'reconstruction_errors_0070_0140.json', 'reconstruction_errors_0140_0210.json', 'reconstruction_errors_0210_0280.json', 'reconstruction_errors_0280_0350.json', 'reconstruction_errors_0350_0420.json', 'reconstruction_errors_0420_0490.json', 'reconstruction_errors_0490_0700.json', 'reconstruction_errors_0700_0900.json', 'reconstruction_errors_0900_1100.json', 'reconstruction_errors_10300_10800.json', 'reconstruction_errors_10800_11300.json', 'reconstruction_errors_1100_1400.json', 'reconstruction_errors_1400_1600.json', 'reconstruction_errors_1600_1900.json', 'reconstruction_errors_1900_2200.json', 'reconstruction_errors_2200_2500.json', 'reconstruction_errors_2500_2800.json', 'reconstruction_errors_2800_3200.json', 'reconstruction_errors_3200_3500.json', 'reconstruction_errors_3500_3800.json', 'reconstruction_errors_3800_4300.json', 'reconstruction_errors_4300_4800.json', 'reconstruction_errors_4800_5300.json', 'reconstruction_errors_5300_5800.json', 'reconstruction_errors_5800_6300.json', 'reconstruction_errors_6300_6800.json', 'reconstruction_errors_6800_7300.json', 'reconstruction_errors_7300_7800.json', 'reconstruction_errors_7800_8300.json', 'reconstruction_errors_8300_8800.json', 'reconstruction_errors_8800_9300.json', 'reconstruction_errors_9300_9800.json', 'reconstruction_errors_9800_10300.json'] files found.\n",
      "Combined 34 files into /BS/data_mani_compress/work/thesis/thesis/data/datasets/reconstruction_loss_imgnet_train/reconstruction_errors_all.json, total entries = 3405440\n"
     ]
    }
   ],
   "source": [
    "# folder containing your JSON files\n",
    "\n",
    "folder = \"/BS/data_mani_compress/work/thesis/thesis/data/datasets/reconstruction_loss_imgnet_train\"\n",
    "\n",
    "# list all files that match the naming pattern\n",
    "files = [f for f in os.listdir(folder) if f.startswith(\"reconstruction_errors_\") and f.endswith(\".json\")]\n",
    "\n",
    "# sort files to ensure correct order\n",
    "files.sort()\n",
    "print((files), \"files found.\")\n",
    "\n",
    "\n",
    "combined = []\n",
    "\n",
    "for fname in files:\n",
    "    fpath = os.path.join(folder, fname)\n",
    "    with open(fpath, \"r\") as f:\n",
    "        data = json.load(f)\n",
    "        combined.extend(data)  # merge dictionaries\n",
    "\n",
    "# write combined json\n",
    "out_path = os.path.join(folder, \"reconstruction_errors_all.json\")\n",
    "with open(out_path, \"w\") as f:\n",
    "    json.dump(combined, f, indent=2)\n",
    "\n",
    "print(f\"Combined {len(files)} files into {out_path}, total entries = {len(combined)}\")"
   ]
  },
  {
   "cell_type": "code",
   "execution_count": 21,
   "id": "302a2130",
   "metadata": {},
   "outputs": [
    {
     "name": "stdout",
     "output_type": "stream",
     "text": [
      "Total entries in combined file: 3405440\n"
     ]
    }
   ],
   "source": [
    "with open(\"/BS/data_mani_compress/work/thesis/thesis/data/datasets/reconstruction_loss_imgnet_train/reconstruction_errors_all.json\", \"r\") as f:\n",
    "    combined = json.load(f)\n",
    "\n",
    "print(f\"Total entries in combined file: {len(combined)}\")"
   ]
  },
  {
   "cell_type": "code",
   "execution_count": 28,
   "id": "796e90eb",
   "metadata": {},
   "outputs": [
    {
     "name": "stdout",
     "output_type": "stream",
     "text": [
      "{'image_id': 329599, 'k_value': 256, 'mse_error': 0.11420442909002304, 'vgg_error': 2.1269850730895996}\n"
     ]
    }
   ],
   "source": [
    "print(combined[-1])"
   ]
  },
  {
   "cell_type": "code",
   "execution_count": 29,
   "id": "dcc43276",
   "metadata": {},
   "outputs": [
    {
     "name": "stdout",
     "output_type": "stream",
     "text": [
      "3405440 vgg errors found.\n"
     ]
    }
   ],
   "source": [
    "# get all the vgg errors\n",
    "vgg_errors = [entry[\"vgg_error\"] for entry in combined]\n",
    "print(len(vgg_errors), \"vgg errors found.\")"
   ]
  },
  {
   "cell_type": "code",
   "execution_count": 34,
   "id": "70748b89",
   "metadata": {},
   "outputs": [
    {
     "name": "stdout",
     "output_type": "stream",
     "text": [
      "2.83240806948364 mean vgg error\n",
      "0.14857468008995056 min vgg error\n",
      "6.7774505615234375 max vgg error\n"
     ]
    }
   ],
   "source": [
    "\n",
    "\n",
    "vgg_errors = np.array(vgg_errors)\n",
    "print(np.mean(vgg_errors), \"mean vgg error\")\n",
    "print(np.min(vgg_errors), \"min vgg error\")\n",
    "print(np.max(vgg_errors), \"max vgg error\")"
   ]
  },
  {
   "cell_type": "code",
   "execution_count": null,
   "id": "f6a68154",
   "metadata": {},
   "outputs": [],
   "source": []
  }
 ],
 "metadata": {
  "kernelspec": {
   "display_name": "dgm_geometry",
   "language": "python",
   "name": "python3"
  },
  "language_info": {
   "codemirror_mode": {
    "name": "ipython",
    "version": 3
   },
   "file_extension": ".py",
   "mimetype": "text/x-python",
   "name": "python",
   "nbconvert_exporter": "python",
   "pygments_lexer": "ipython3",
   "version": "3.11.5"
  }
 },
 "nbformat": 4,
 "nbformat_minor": 5
}
