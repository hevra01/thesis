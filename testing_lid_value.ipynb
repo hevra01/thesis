{
 "cells": [
  {
   "cell_type": "code",
   "execution_count": 1,
   "id": "d6f82c95",
   "metadata": {},
   "outputs": [
    {
     "name": "stderr",
     "output_type": "stream",
     "text": [
      "/BS/data_mani_compress/work/miniforge3/envs/dgm_geometry/lib/python3.11/site-packages/tqdm/auto.py:21: TqdmWarning: IProgress not found. Please update jupyter and ipywidgets. See https://ipywidgets.readthedocs.io/en/stable/user_install.html\n",
      "  from .autonotebook import tqdm as notebook_tqdm\n"
     ]
    }
   ],
   "source": [
    "\"\"\"\n",
    "sanity check for the LID values\n",
    "\"\"\"\n",
    "\n",
    "import matplotlib.pyplot as plt\n",
    "from PIL import Image\n",
    "import torchvision.transforms as transforms\n",
    "from data.utils.dataloaders import get_imagenet_dataloader\n",
    "import json\n",
    "from numpy import argsort\n",
    "import math\n"
   ]
  },
  {
   "cell_type": "code",
   "execution_count": 2,
   "id": "f2b4b315",
   "metadata": {},
   "outputs": [
    {
     "name": "stderr",
     "output_type": "stream",
     "text": [
      "/BS/data_mani_compress/work/miniforge3/envs/dgm_geometry/lib/python3.11/site-packages/torch/utils/data/dataloader.py:617: UserWarning: This DataLoader will create 64 worker processes in total. Our suggested max number of worker in current system is 20, which is smaller than what this DataLoader is going to create. Please be aware that excessive worker creation might get DataLoader running slow or even freeze, lower the worker number to avoid potential slowness/freeze if necessary.\n",
      "  warnings.warn(\n"
     ]
    }
   ],
   "source": [
    "# get the dataloader\n",
    "imgnet_dataloader = get_imagenet_dataloader(batch_size=4)"
   ]
  },
  {
   "cell_type": "code",
   "execution_count": null,
   "id": "05f4a1a9",
   "metadata": {},
   "outputs": [],
   "source": [
    "\"\"\"\n",
    "To plot any random image from the dataloader's dataset, by providing the index\n",
    "\"\"\"\n",
    "plt.imshow(Image.open(imgnet_dataloader.dataset.samples[2][0]))\n",
    "plt.show()\n"
   ]
  },
  {
   "cell_type": "code",
   "execution_count": 3,
   "id": "7d1ea8f5",
   "metadata": {},
   "outputs": [],
   "source": [
    "\"\"\"\n",
    "Given a list of image paths, save them in a grid format to a PDF file.\n",
    "\"\"\"\n",
    "\n",
    "def save_image_grid(img_paths, output_pdf, images_per_row=25, thumb_size=(32, 32)):\n",
    "    num_images = len(img_paths)\n",
    "    \n",
    "    num_cols = images_per_row\n",
    "    num_rows = math.ceil(num_images / num_cols)\n",
    "    \n",
    "    fig, axes = plt.subplots(num_rows, num_cols, figsize=(num_cols * 0.5, num_rows * 0.5), dpi=300)\n",
    "    axes = axes.flatten()\n",
    "\n",
    "    for ax, img_path in zip(axes, img_paths):\n",
    "        img = plt.imread(img_path)\n",
    "        ax.imshow(img)\n",
    "        ax.axis('off')\n",
    "\n",
    "    # Hide any unused axes\n",
    "    for ax in axes[num_images:]:\n",
    "        ax.axis('off')\n",
    "\n",
    "    plt.subplots_adjust(wspace=0, hspace=0)\n",
    "    plt.savefig(output_pdf, bbox_inches='tight', pad_inches=0)\n",
    "    plt.close(fig)\n",
    "\n",
    "# Usage:\n",
    "# save_image_grid(list_of_img_paths, \"all_images_grid.pdf\", images_per_row=50, thumb_size=(32, 32))"
   ]
  },
  {
   "cell_type": "code",
   "execution_count": 5,
   "id": "738537c6",
   "metadata": {},
   "outputs": [],
   "source": [
    "\"\"\"\n",
    "Show the images for top and bottom LID values\n",
    "\"\"\"\n",
    "\n",
    "# Load the LID values from the JSON file \n",
    "with open(\"/BS/data_mani_compress/work/thesis/thesis/lid_200_corrected.json\", \"r\") as f:\n",
    "    imgnet_9 = json.load(f)\n",
    "\n",
    "\n",
    "# get the indices of the sorted LID values. \n",
    "# the lid values were evaluated on the images in the dataloader\n",
    "# so the indices correspond to the images in the dataloader\n",
    "ascending_indices = argsort(imgnet_9)\n",
    "\n",
    "# get the top 10 LID values\n",
    "top_10_indices = ascending_indices[-120:]\n",
    "\n",
    "# get the bottom 10 LID values\n",
    "bottom_10_indices = ascending_indices[:120]\n",
    "\n",
    "# combine the top and bottom indices\n",
    "combined_indices = list(bottom_10_indices) + list(top_10_indices)\n",
    "\n",
    "ascending_ordered_img_path = [imgnet_dataloader.dataset.samples[idx][0] for idx in combined_indices]\n",
    "save_image_grid(ascending_ordered_img_path, \"lid_200_corrected.pdf\", images_per_row=15, thumb_size=(32, 32))\n",
    "\n"
   ]
  }
 ],
 "metadata": {
  "kernelspec": {
   "display_name": "dgm_geometry",
   "language": "python",
   "name": "python3"
  },
  "language_info": {
   "codemirror_mode": {
    "name": "ipython",
    "version": 3
   },
   "file_extension": ".py",
   "mimetype": "text/x-python",
   "name": "python",
   "nbconvert_exporter": "python",
   "pygments_lexer": "ipython3",
   "version": "3.11.5"
  }
 },
 "nbformat": 4,
 "nbformat_minor": 5
}
