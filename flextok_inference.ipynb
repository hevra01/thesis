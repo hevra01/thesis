{
 "cells": [
  {
   "cell_type": "code",
   "execution_count": 3,
   "id": "5dc15ff8",
   "metadata": {},
   "outputs": [],
   "source": [
    "\n",
    "import torch\n",
    "from flextok.flextok_wrapper import FlexTokFromHub\n",
    "from diffusers.models import AutoencoderKL\n",
    "from flextok.utils.demo import imgs_from_urls\n",
    "import matplotlib.pyplot as plt\n",
    "from reconstruction_loss import reconstruction_error\n",
    "\n",
    "device = torch.device(\"cuda\" if torch.cuda.is_available() else \"cpu\")\n"
   ]
  },
  {
   "cell_type": "code",
   "execution_count": 2,
   "id": "f6a5329c",
   "metadata": {},
   "outputs": [],
   "source": [
    "# this model contains the VAE and the denoiser\n",
    "model = FlexTokFromHub.from_pretrained('EPFL-VILAB/flextok_d18_d28_in1k').eval().to(device)\n"
   ]
  },
  {
   "cell_type": "code",
   "execution_count": 4,
   "id": "8b1a6933",
   "metadata": {},
   "outputs": [
    {
     "name": "stderr",
     "output_type": "stream",
     "text": [
      "/BS/data_mani_compress/work/miniforge3/envs/dgm_geometry/lib/python3.11/site-packages/torch/utils/data/dataloader.py:617: UserWarning: This DataLoader will create 64 worker processes in total. Our suggested max number of worker in current system is 20, which is smaller than what this DataLoader is going to create. Please be aware that excessive worker creation might get DataLoader running slow or even freeze, lower the worker number to avoid potential slowness/freeze if necessary.\n",
      "  warnings.warn(\n"
     ]
    }
   ],
   "source": [
    "from data.utils.dataloaders import get_imagenet_dataloader\n",
    "imgnet_dataloader = get_imagenet_dataloader(batch_size=32)"
   ]
  },
  {
   "cell_type": "code",
   "execution_count": 5,
   "id": "5c5871bd",
   "metadata": {},
   "outputs": [],
   "source": [
    "first_images, first_labels = next(iter(imgnet_dataloader))"
   ]
  },
  {
   "cell_type": "code",
   "execution_count": 6,
   "id": "17767871",
   "metadata": {},
   "outputs": [],
   "source": [
    "def reconstructionLoss_vs_compressionRate(model, images, k_keep_list, loss_fns, loss_weights=None):\n",
    "    \"\"\"\n",
    "    Computes reconstruction losses for different compression rates.\n",
    "    \n",
    "    Args:\n",
    "        model: FlexTok model instance.\n",
    "        images: Tensor of shape (B, 3, H, W) with input images.\n",
    "        k_keep_list: List of integers representing the number of tokens to keep.\n",
    "        loss_fns: List of loss functions to compute.\n",
    "        loss_weights: List of weights for each loss function.\n",
    "    \n",
    "    Returns:\n",
    "        dict: Dictionary with compression rates as keys and total losses as values.\n",
    "    \"\"\"\n",
    "    results = {}\n",
    "    \n",
    "    # First tokenize the images into register tokens, which already handles the VAE mapping to latents.\n",
    "    tokens_list = model.tokenize(images.to(device))\n",
    "\n",
    "    # we want to see how the reconstruction error changes with different compression rates.\n",
    "    # lower k_keep means (fewer registers) more compression, higher k_keep means less compression.\n",
    "    for k_keep in k_keep_list:\n",
    "        # the first \":\" means for all images in the batch, the second refers to the register tokens.\n",
    "        # we keep only the first k_keep tokens.\n",
    "        tokens_list_filtered = [t[:,:k_keep] for t in tokens_list]\n",
    "        \n",
    "        reconst = model.detokenize(\n",
    "            tokens_list_filtered,\n",
    "            timesteps=20,\n",
    "            guidance_scale=7.5,\n",
    "            perform_norm_guidance=True,\n",
    "        )\n",
    "        \n",
    "        total_loss, loss_dict = reconstruction_error(reconst, images, \n",
    "            loss_fns=loss_fns,\n",
    "            loss_weights=loss_weights\n",
    "        )\n",
    "        print(f\"Compression rate k_keep={k_keep}: Total Loss = {loss_dict.values()}\")\n",
    "        \n",
    "        results[k_keep] = loss_dict\n",
    "    \n",
    "    return results"
   ]
  },
  {
   "cell_type": "code",
   "execution_count": 8,
   "id": "1a50f66e",
   "metadata": {},
   "outputs": [
    {
     "name": "stderr",
     "output_type": "stream",
     "text": [
      "/BS/data_mani_compress/work/miniforge3/envs/dgm_geometry/lib/python3.11/site-packages/torchvision/models/_utils.py:208: UserWarning: The parameter 'pretrained' is deprecated since 0.13 and may be removed in the future, please use 'weights' instead.\n",
      "  warnings.warn(\n",
      "/BS/data_mani_compress/work/miniforge3/envs/dgm_geometry/lib/python3.11/site-packages/torchvision/models/_utils.py:223: UserWarning: Arguments other than a weight enum or `None` for 'weights' are deprecated since 0.13 and may be removed in the future. The current behavior is equivalent to passing `weights=VGG19_Weights.IMAGENET1K_V1`. You can also use `weights=VGG19_Weights.DEFAULT` to get the most up-to-date weights.\n",
      "  warnings.warn(msg)\n",
      "100%|██████████| 20/20 [01:45<00:00,  5.30s/it]\n"
     ]
    },
    {
     "name": "stdout",
     "output_type": "stream",
     "text": [
      "Compression rate k_keep=1: Total Loss = dict_values([6.551492691040039, 1.007537841796875])\n"
     ]
    },
    {
     "name": "stderr",
     "output_type": "stream",
     "text": [
      "100%|██████████| 20/20 [01:46<00:00,  5.35s/it]\n"
     ]
    },
    {
     "name": "stdout",
     "output_type": "stream",
     "text": [
      "Compression rate k_keep=4: Total Loss = dict_values([6.452919960021973, 0.8183573484420776])\n"
     ]
    },
    {
     "name": "stderr",
     "output_type": "stream",
     "text": [
      "100%|██████████| 20/20 [01:48<00:00,  5.42s/it]\n"
     ]
    },
    {
     "name": "stdout",
     "output_type": "stream",
     "text": [
      "Compression rate k_keep=8: Total Loss = dict_values([6.328386306762695, 0.8001121282577515])\n"
     ]
    },
    {
     "name": "stderr",
     "output_type": "stream",
     "text": [
      "100%|██████████| 20/20 [01:49<00:00,  5.46s/it]\n"
     ]
    },
    {
     "name": "stdout",
     "output_type": "stream",
     "text": [
      "Compression rate k_keep=16: Total Loss = dict_values([6.416606426239014, 0.7406759262084961])\n"
     ]
    },
    {
     "name": "stderr",
     "output_type": "stream",
     "text": [
      "100%|██████████| 20/20 [01:46<00:00,  5.34s/it]\n"
     ]
    },
    {
     "name": "stdout",
     "output_type": "stream",
     "text": [
      "Compression rate k_keep=32: Total Loss = dict_values([6.438834190368652, 0.7039017081260681])\n"
     ]
    },
    {
     "name": "stderr",
     "output_type": "stream",
     "text": [
      "100%|██████████| 20/20 [01:46<00:00,  5.31s/it]\n"
     ]
    },
    {
     "name": "stdout",
     "output_type": "stream",
     "text": [
      "Compression rate k_keep=64: Total Loss = dict_values([6.307858943939209, 0.6801621913909912])\n"
     ]
    },
    {
     "name": "stderr",
     "output_type": "stream",
     "text": [
      "100%|██████████| 20/20 [01:46<00:00,  5.34s/it]\n"
     ]
    },
    {
     "name": "stdout",
     "output_type": "stream",
     "text": [
      "Compression rate k_keep=128: Total Loss = dict_values([5.713963985443115, 0.6016665101051331])\n"
     ]
    },
    {
     "name": "stderr",
     "output_type": "stream",
     "text": [
      "100%|██████████| 20/20 [01:47<00:00,  5.36s/it]\n"
     ]
    },
    {
     "name": "stdout",
     "output_type": "stream",
     "text": [
      "Compression rate k_keep=200: Total Loss = dict_values([5.429396629333496, 0.5616083145141602])\n"
     ]
    },
    {
     "name": "stderr",
     "output_type": "stream",
     "text": [
      "100%|██████████| 20/20 [01:47<00:00,  5.37s/it]\n"
     ]
    },
    {
     "name": "stdout",
     "output_type": "stream",
     "text": [
      "Compression rate k_keep=256: Total Loss = dict_values([5.173590183258057, 0.5463761687278748])\n"
     ]
    }
   ],
   "source": [
    "from reconstruction_loss import MAELoss, VGGPerceptualLoss\n",
    "\n",
    "\n",
    "k_keep_list = [1, 4, 8, 16, 32, 64, 128, 200, 256]  # Different compression rates to test\n",
    "loss_fns = [VGGPerceptualLoss().to(device), MAELoss()]\n",
    "results = reconstructionLoss_vs_compressionRate(model, first_images.to(device), k_keep_list, loss_fns, loss_weights=None)"
   ]
  },
  {
   "cell_type": "code",
   "execution_count": null,
   "id": "80134048",
   "metadata": {},
   "outputs": [
    {
     "name": "stdout",
     "output_type": "stream",
     "text": [
      "Results: {1: {'VGGPerceptualLoss': 6.551492691040039, 'MAELoss': 1.007537841796875}, 4: {'VGGPerceptualLoss': 6.452919960021973, 'MAELoss': 0.8183573484420776}, 8: {'VGGPerceptualLoss': 6.328386306762695, 'MAELoss': 0.8001121282577515}, 16: {'VGGPerceptualLoss': 6.416606426239014, 'MAELoss': 0.7406759262084961}, 32: {'VGGPerceptualLoss': 6.438834190368652, 'MAELoss': 0.7039017081260681}, 64: {'VGGPerceptualLoss': 6.307858943939209, 'MAELoss': 0.6801621913909912}, 128: {'VGGPerceptualLoss': 5.713963985443115, 'MAELoss': 0.6016665101051331}, 200: {'VGGPerceptualLoss': 5.429396629333496, 'MAELoss': 0.5616083145141602}, 256: {'VGGPerceptualLoss': 5.173590183258057, 'MAELoss': 0.5463761687278748}}\n"
     ]
    },
    {
     "data": {
      "image/png": "[encoded data removed]",
      "text/plain": [
       "<Figure size 800x500 with 2 Axes>"
      ]
     },
     "metadata": {},
     "output_type": "display_data"
    },
    {
     "ename": "",
     "evalue": "",
     "output_type": "error",
     "traceback": [
      "\u001b[1;31mThe Kernel crashed while executing code in the current cell or a previous cell. \n",
      "\u001b[1;31mPlease review the code in the cell(s) to identify a possible cause of the failure. \n",
      "\u001b[1;31mClick <a href='https://aka.ms/vscodeJupyterKernelCrash'>here</a> for more info. \n",
      "\u001b[1;31mView Jupyter <a href='command:jupyter.viewOutput'>log</a> for further details."
     ]
    }
   ],
   "source": [
    "print(\"Results:\", results)\n",
    "import matplotlib.pyplot as plt\n",
    "\n",
    "# Your data\n",
    "results = {\n",
    "    1:   {'VGGPerceptualLoss': 6.55149, 'MAELoss': 1.00754},\n",
    "    4:   {'VGGPerceptualLoss': 6.45292, 'MAELoss': 0.81836},\n",
    "    8:   {'VGGPerceptualLoss': 6.32839, 'MAELoss': 0.80011},\n",
    "    16:  {'VGGPerceptualLoss': 6.41661, 'MAELoss': 0.74068},\n",
    "    32:  {'VGGPerceptualLoss': 6.43883, 'MAELoss': 0.70390},\n",
    "    64:  {'VGGPerceptualLoss': 6.30786, 'MAELoss': 0.68016},\n",
    "    128: {'VGGPerceptualLoss': 5.71396, 'MAELoss': 0.60167},\n",
    "    200: {'VGGPerceptualLoss': 5.42940, 'MAELoss': 0.56161},\n",
    "    256: {'VGGPerceptualLoss': 5.17359, 'MAELoss': 0.54638},\n",
    "}\n",
    "\n",
    "# Prepare data lists\n",
    "ks = sorted(results.keys())\n",
    "vgg = [results[k]['VGGPerceptualLoss'] for k in ks]\n",
    "mae = [results[k]['MAELoss']             for k in ks]\n",
    "\n",
    "# Create plot\n",
    "fig, ax1 = plt.subplots(figsize=(8, 5))\n",
    "\n",
    "ax1.plot(ks, vgg, color='tab:blue', marker='o', label='VGGPerceptualLoss')\n",
    "ax1.set_xlabel('k_keep')\n",
    "ax1.set_ylabel('VGGPerceptualLoss', color='tab:blue')\n",
    "ax1.tick_params(axis='y', labelcolor='tab:blue')\n",
    "\n",
    "# Twin axis for MAE Loss\n",
    "ax2 = ax1.twinx()\n",
    "ax2.plot(ks, mae, color='tab:red', marker='s', label='MAELoss')\n",
    "ax2.set_ylabel('MAELoss', color='tab:red')\n",
    "ax2.tick_params(axis='y', labelcolor='tab:red')\n",
    "\n",
    "# Optional: Add legends\n",
    "lines_1, labels_1 = ax1.get_legend_handles_labels()\n",
    "lines_2, labels_2 = ax2.get_legend_handles_labels()\n",
    "ax1.legend(lines_1 + lines_2, labels_1 + labels_2, loc='upper right')\n",
    "\n",
    "plt.title('Losses vs k_keep')\n",
    "plt.tight_layout()\n",
    "plt.show()\n"
   ]
  }
 ],
 "metadata": {
  "kernelspec": {
   "display_name": "dgm_geometry",
   "language": "python",
   "name": "python3"
  },
  "language_info": {
   "codemirror_mode": {
    "name": "ipython",
    "version": 3
   },
   "file_extension": ".py",
   "mimetype": "text/x-python",
   "name": "python",
   "nbconvert_exporter": "python",
   "pygments_lexer": "ipython3",
   "version": "3.11.5"
  }
 },
 "nbformat": 4,
 "nbformat_minor": 5
}
