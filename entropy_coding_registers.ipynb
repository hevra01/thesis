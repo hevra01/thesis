{
 "cells": [
  {
   "cell_type": "code",
   "execution_count": 2,
   "id": "7f0bfd75",
   "metadata": {},
   "outputs": [],
   "source": [
    "import numpy as np\n",
    "from collections import Counter\n",
    "import json\n",
    "from dahuffman import HuffmanCodec\n"
   ]
  },
  {
   "cell_type": "code",
   "execution_count": 3,
   "id": "deeddc6f",
   "metadata": {},
   "outputs": [
    {
     "name": "stdout",
     "output_type": "stream",
     "text": [
      "Total number of registers: 12800000\n"
     ]
    }
   ],
   "source": [
    "# read json file that has all registers (outout of ViT of flextok) for all images stored\n",
    "with open('all_registers_imagenet.json', 'r') as f:\n",
    "    all_registers_imagenet = json.load(f)\n",
    "    \n",
    "# Suppose all_registers_imagenet is a list of lists or a 2D numpy array: shape [num_images, 256]\n",
    "# If it's a list of lists, flatten it:\n",
    "all_ids = np.array(all_registers_imagenet).flatten()\n",
    "# (12800000 total num of registers) / (50000 num of images in dataset) = 256 registers per image\n",
    "print(f\"Total number of registers: {len(all_ids)}\") "
   ]
  },
  {
   "cell_type": "code",
   "execution_count": null,
   "id": "09cf3d21",
   "metadata": {},
   "outputs": [
    {
     "name": "stdout",
     "output_type": "stream",
     "text": [
      "[48883 37661 63028 58260 37859 34587 31578 34107 30828 62123]\n",
      "Top 10 most frequent register IDs and their counts:\n",
      "Register ID 1566: 5623 times\n",
      "Register ID 1565: 4922 times\n",
      "Register ID 1054: 4423 times\n",
      "Register ID 1032: 4116 times\n",
      "Register ID 520: 3880 times\n",
      "Register ID 1024: 3392 times\n",
      "Register ID 512: 3235 times\n",
      "Register ID 62919: 3206 times\n",
      "Register ID 60359: 2697 times\n",
      "Register ID 1536: 2557 times\n"
     ]
    }
   ],
   "source": [
    "# Count frequencies\n",
    "freq_counter = Counter(all_ids)\n",
    "\n",
    "# To get the most common register IDs and their counts:\n",
    "most_common = freq_counter.most_common(10)  # Top 10 most frequent\n",
    "print(\"Top 10 most frequent register IDs and their counts:\")\n",
    "for reg_id, count in most_common:\n",
    "    print(f\"Register ID {reg_id}: {count} times\")"
   ]
  },
  {
   "cell_type": "code",
   "execution_count": 5,
   "id": "befff7ad",
   "metadata": {},
   "outputs": [
    {
     "name": "stdout",
     "output_type": "stream",
     "text": [
      "Probability of most frequent register (1566): 0.0004\n",
      "Top 10 most frequent register IDs and their probabilities:\n",
      "Register ID 1566: Probability = 0.000439\n",
      "Register ID 1565: Probability = 0.000385\n",
      "Register ID 1054: Probability = 0.000346\n",
      "Register ID 1032: Probability = 0.000322\n",
      "Register ID 520: Probability = 0.000303\n",
      "Register ID 1024: Probability = 0.000265\n",
      "Register ID 512: Probability = 0.000253\n",
      "Register ID 62919: Probability = 0.000250\n",
      "Register ID 60359: Probability = 0.000211\n",
      "Register ID 1536: Probability = 0.000200\n"
     ]
    }
   ],
   "source": [
    "# To get the frequency (probability) of each register ID:\n",
    "total = len(all_ids)\n",
    "register_probs = {reg_id: count / total for reg_id, count in freq_counter.items()}\n",
    "\n",
    "# Example: print the probability of the most frequent register\n",
    "most_frequent_id = most_common[0][0]\n",
    "print(f\"Probability of most frequent register ({most_frequent_id}): {register_probs[most_frequent_id]:.4f}\")\n",
    "\n",
    "# Print the probabilities of the top 10 most frequent registers\n",
    "print(\"Top 10 most frequent register IDs and their probabilities:\")\n",
    "for reg_id, count in most_common:\n",
    "    prob = register_probs[reg_id]\n",
    "    print(f\"Register ID {reg_id}: Probability = {prob:.6f}\")"
   ]
  },
  {
   "cell_type": "code",
   "execution_count": 53,
   "id": "922a0635",
   "metadata": {},
   "outputs": [
    {
     "name": "stdout",
     "output_type": "stream",
     "text": [
      "Number of unique registers 64000\n",
      "Standard deviation of register probabilities: 1.251090e-05\n",
      "Entropy of register distribution: 15.6154\n",
      "If the register IDs were uniformly distributed, the entropy would be:  15.9658\n"
     ]
    }
   ],
   "source": [
    "# Get the list of probabilities\n",
    "probs = np.array(list(register_probs.values()))\n",
    "\n",
    "print(\"Number of unique registers\", len(probs))  \n",
    "\n",
    "# Variance of the probabilities\n",
    "std = np.std(probs)\n",
    "print(f\"Standard deviation of register probabilities: {std:.6e}\")\n",
    "\n",
    "# shannon entropy is sum(-p * log2(p)) for all probabilities p for unique registers.\n",
    "# here, we are comparing the entropy to max possible entropy, which is log2(1/num_unique_registers)\n",
    "entropy = -np.sum(probs * np.log2(probs + 1e-12))\n",
    "print(f\"Entropy of register distribution: {entropy:.4f}\")\n",
    "uniform_distribution = -np.log2(1 / len(probs))\n",
    "print(f\"If the register IDs were uniformly distributed, the entropy would be:  {uniform_distribution:.4f}\")\n",
    "\n",
    "# Your data’s current entropy ≈ 15.615 bits/symbol =>\n",
    "# (that's the ideal average. No coding system can do better on average than that, \n",
    "# per Shannon's source coding theorem.)\n",
    "# If we don't apply any entropy coding, it is like assuming max entropy, where we \n",
    "# assign every register ID the same number of bits.\n",
    "# so by applying Huffman coding, (or other entropy coding methods),\n",
    "# the max reduction in bits/symbol is 0.35 bits/symbol"
   ]
  },
  {
   "cell_type": "code",
   "execution_count": null,
   "id": "1924d239",
   "metadata": {},
   "outputs": [],
   "source": [
    "# here all_ids is a 1D numpy array of register IDs of all images from imagenet flattened\n",
    "codec = HuffmanCodec.from_data(all_ids)\n",
    "\n",
    "# 2. Print the symbol → Huffman bitcode table\n",
    "codec.print_code_table()\n",
    "\n",
    "# 3. Access the codebook directly\n",
    "codebook = codec.get_code_table()  # returns dict: symbol → (bit_length, code_string)"
   ]
  },
  {
   "cell_type": "code",
   "execution_count": null,
   "id": "b7ddc0a3",
   "metadata": {},
   "outputs": [
    {
     "name": "stdout",
     "output_type": "stream",
     "text": [
      "Number of unique registers in codebook: 64001\n",
      "63999 _EOF\n",
      "Register ID with the longest code: 1565 with length (11, 344) bits\n"
     ]
    }
   ],
   "source": [
    "print(f\"Number of unique registers in codebook: {len(codebook)}\")\n",
    "# get the lowest 2 register IDs directly\n",
    "\n",
    "print(max(codebook.keys()), min(codebook.keys()))\n",
    "# get the key which has the highest value in the codebook\n",
    "min_key = min(codebook, key=lambda k: codebook[k][0])  #\n",
    "print(f\"Register ID with the longest code: {min_key} with length {codebook[min_key]} bits\")"
   ]
  },
  {
   "cell_type": "code",
   "execution_count": 44,
   "id": "4b2e5d5a",
   "metadata": {},
   "outputs": [
    {
     "name": "stdout",
     "output_type": "stream",
     "text": [
      "Baseline bits per symbol: 16.00\n",
      "Average bits per symbol with Huffman coding: 15.64\n",
      "Reduction achieved: 0.36 bits/symbol\n"
     ]
    }
   ],
   "source": [
    "# Baseline bits per symbol (fixed-length encoding)\n",
    "# Ceiling is only for fixed-length encoding.\n",
    "baseline_bits = np.ceil(-np.log2(1/len(register_probs)))\n",
    "\n",
    "# Average bits per symbol with Huffman coding.\n",
    "# Here, we don't use ceiling, because we are taking the average bits per symbol\n",
    "# huffman already gives integer number of bits for each register ID.\n",
    "average_bits_huffman = sum(\n",
    "    register_probs[reg_id] * codebook[reg_id][0]  # Probability * Huffman bit length\n",
    "    for reg_id in register_probs\n",
    ")\n",
    "\n",
    "# Reduction achieved\n",
    "reduction = baseline_bits - average_bits_huffman\n",
    "\n",
    "print(f\"Baseline bits per symbol: {baseline_bits:.2f}\")\n",
    "print(f\"Average bits per symbol with Huffman coding: {average_bits_huffman:.2f}\")\n",
    "print(f\"Reduction achieved: {reduction:.2f} bits/symbol\")"
   ]
  }
 ],
 "metadata": {
  "kernelspec": {
   "display_name": "dgm_geometry",
   "language": "python",
   "name": "python3"
  },
  "language_info": {
   "codemirror_mode": {
    "name": "ipython",
    "version": 3
   },
   "file_extension": ".py",
   "mimetype": "text/x-python",
   "name": "python",
   "nbconvert_exporter": "python",
   "pygments_lexer": "ipython3",
   "version": "3.11.5"
  }
 },
 "nbformat": 4,
 "nbformat_minor": 5
}
